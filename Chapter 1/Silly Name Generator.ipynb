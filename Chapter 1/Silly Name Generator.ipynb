{
 "cells": [
  {
   "cell_type": "markdown",
   "metadata": {},
   "source": [
    "# Silly Name Generator\n",
    "\n",
    "**Objective:** Randomly generate funny sidekick names using python code\n",
    "\n",
    "**Pseudocode:** High Level List of the objective tasks\n",
    "1. Load a list of first names\n",
    "2. Load a list of surnames\n",
    "3. Choose a first name at random\n",
    "4. Assign the name to a variable\n",
    "5. Choose a surname at random\n",
    "6. Assign the name to a variable \n",
    "7. Print the names on screen in order"
   ]
  },
  {
   "cell_type": "markdown",
   "metadata": {},
   "source": [
    "## Setup: Imports\n",
    "\n",
    "* **random:** Used for selection of random values from data"
   ]
  },
  {
   "cell_type": "code",
   "execution_count": 1,
   "metadata": {},
   "outputs": [],
   "source": [
    "from random import choice"
   ]
  },
  {
   "cell_type": "markdown",
   "metadata": {},
   "source": [
    "## Step 1: Load a List of First Names"
   ]
  },
  {
   "cell_type": "code",
   "execution_count": 2,
   "metadata": {},
   "outputs": [
    {
     "name": "stdout",
     "output_type": "stream",
     "text": [
      "('Baby Oil', 'Bad News', 'Big Burps', \"Bill 'Beenie-Weenie'\", \"Bob 'Stinkbug'\", 'Bowel Noises', 'Boxelder', \"Bud 'Lite'\", 'Chewy', 'Cinnabuns', 'Cleet', 'Cornbread', 'Crab Meat', 'Crapps', 'Dark Skies', 'Dennis Clawhammer', 'Dicman', 'Elphonso', 'Fancypants', 'Figgs', 'Foncy', 'Gootsy', 'Greasy Jim', 'Huckleberry', 'Huggy', 'Ignatious', 'Jimbo', \"Joe'Pottin Soil'\", 'Johnny', 'Lemongrass', 'Lil Debil', 'Longbranch', \"'Lunch Money'\", 'Megatroid', \"'Mr Peabody'\", 'Oil-Can', 'Oinks', 'Old Scratch', 'Ovaltine', 'Pennywhistle', 'Pitchfork Ben', 'Potato Bug', 'Pushmeet', 'Rock Candy', 'Schlomo', 'Scratchensniff', 'Scut', \"Sid 'The Squirts'\", 'Skidmark', 'Slaps', 'Snakes', 'Snoobs', 'Snorki', 'Soupcan Sam', 'Spitzitout', 'Squids', 'Stinky', \"Winston 'Jazz Hands'\", 'Worms')\n"
     ]
    }
   ],
   "source": [
    "# === Create the List === #\n",
    "first = ( 'Baby Oil', 'Bad News', 'Big Burps', 'Bill \\'Beenie-Weenie\\'' , \n",
    "          'Bob \\'Stinkbug\\'', 'Bowel Noises', 'Boxelder', 'Bud \\'Lite\\'', \n",
    "          'Chewy', 'Cinnabuns', 'Cleet', 'Cornbread', 'Crab Meat',\n",
    "          'Crapps', 'Dark Skies', 'Dennis Clawhammer', 'Dicman', 'Elphonso',\n",
    "          'Fancypants', 'Figgs', 'Foncy', 'Gootsy', 'Greasy Jim', 'Huckleberry',\n",
    "          'Huggy', 'Ignatious', 'Jimbo', 'Joe\\'Pottin Soil\\'', 'Johnny',\n",
    "          'Lemongrass', 'Lil Debil', 'Longbranch', '\\'Lunch Money\\'',\n",
    "          'Megatroid', '\\'Mr Peabody\\'', 'Oil-Can', 'Oinks', 'Old Scratch',\n",
    "          'Ovaltine', 'Pennywhistle', 'Pitchfork Ben', 'Potato Bug',\n",
    "          'Pushmeet', 'Rock Candy', 'Schlomo', 'Scratchensniff', 'Scut',\n",
    "          'Sid \\'The Squirts\\'', 'Skidmark', 'Slaps', 'Snakes', 'Snoobs',\n",
    "          'Snorki', 'Soupcan Sam', 'Spitzitout', 'Squids', 'Stinky',\n",
    "          'Winston \\'Jazz Hands\\'', 'Worms')\n",
    "\n",
    "\n",
    "# === Debugging: Print the List === #\n",
    "print( first )"
   ]
  },
  {
   "cell_type": "markdown",
   "metadata": {},
   "source": [
    "## Step 2: Load a List of Surnames"
   ]
  },
  {
   "cell_type": "code",
   "execution_count": 3,
   "metadata": {},
   "outputs": [
    {
     "name": "stdout",
     "output_type": "stream",
     "text": [
      "('Appleyard', 'Bigmeat', 'Bloominshine', 'Boogerbottom', 'Breedslovetrout', 'Butterbaugh', 'Clovenhoof', 'Clutterbuck', 'Cocktoasten', 'Endicott', 'Fewhairs', 'Gooberdapple', 'Goodensmith', 'Goodpasture', 'Guster', 'Henderson', 'Hooperbag', 'Hoosenater', 'Hootkins', 'Jefferson', 'Jenkins', 'Jingley-Schmidt', 'Johnson', 'Kingfish', 'Listenbee', \"M'Bembo\", 'McFadden', 'Moonshine', 'Nettles', 'Noseworthy', 'Olivertti', 'Outerbridge', 'Overpeck', 'Overturf', 'Oxenhandler', 'Pealike', 'Pennywhistle', 'Peterson', 'Pieplow', 'Pinkerton', 'Porkins', 'Putney', 'Quakenbush', 'Rainwater', 'Rosenthal', 'Rubbins', 'Sackrider', 'Snuggleshine', 'Splern', 'Stevens', 'Stroganoff', 'Sugar-Gold', 'Swackhamer', 'Tippins', 'Turnipseed', 'Vinaigrette', 'Walkingstick', 'Wallbanger', 'Weewax', 'Weiners', 'Whipkey', 'Wigglesworth', 'Wimplesnatch', 'Winterkorn', 'Woolysocks')\n"
     ]
    }
   ],
   "source": [
    "# === Create the List === #\n",
    "last = ( 'Appleyard', 'Bigmeat', 'Bloominshine', 'Boogerbottom',\n",
    "         'Breedslovetrout', 'Butterbaugh', 'Clovenhoof', 'Clutterbuck',\n",
    "          'Cocktoasten''', 'Endicott', 'Fewhairs', 'Gooberdapple', 'Goodensmith',\n",
    "         'Goodpasture', 'Guster', 'Henderson', 'Hooperbag', 'Hoosenater',\n",
    "         'Hootkins', 'Jefferson', 'Jenkins', 'Jingley-Schmidt', 'Johnson',\n",
    "         'Kingfish', 'Listenbee', 'M\\'Bembo', 'McFadden', 'Moonshine', 'Nettles',\n",
    "         'Noseworthy', 'Olivertti', 'Outerbridge', 'Overpeck', 'Overturf',\n",
    "         'Oxenhandler', 'Pealike', 'Pennywhistle', 'Peterson', 'Pieplow',\n",
    "         'Pinkerton', 'Porkins', 'Putney', 'Quakenbush', 'Rainwater',\n",
    "         'Rosenthal', 'Rubbins', 'Sackrider', 'Snuggleshine', 'Splern',\n",
    "         'Stevens', 'Stroganoff', 'Sugar-Gold', 'Swackhamer', 'Tippins',\n",
    "         'Turnipseed', 'Vinaigrette', 'Walkingstick', 'Wallbanger', 'Weewax',\n",
    "         'Weiners', 'Whipkey', 'Wigglesworth', 'Wimplesnatch', 'Winterkorn',\n",
    "         'Woolysocks' )\n",
    "\n",
    "\n",
    "# === Debugging: Print the List === #\n",
    "print( last )"
   ]
  },
  {
   "cell_type": "markdown",
   "metadata": {},
   "source": [
    "## Steps 3 & 4: Choose Random First Name & Assign to Variable"
   ]
  },
  {
   "cell_type": "code",
   "execution_count": 5,
   "metadata": {},
   "outputs": [
    {
     "name": "stdout",
     "output_type": "stream",
     "text": [
      "Crab Meat\n"
     ]
    }
   ],
   "source": [
    "# === Randomly Select and Store === #\n",
    "first_name = choice( first )\n",
    "\n",
    "\n",
    "# === Debugging: Print the Value === #\n",
    "print( first_name )"
   ]
  },
  {
   "cell_type": "markdown",
   "metadata": {},
   "source": [
    "## Steps 5 & 6: Choose Random Surname & Assign to Variable"
   ]
  },
  {
   "cell_type": "code",
   "execution_count": 6,
   "metadata": {},
   "outputs": [
    {
     "name": "stdout",
     "output_type": "stream",
     "text": [
      "Weiners\n"
     ]
    }
   ],
   "source": [
    "# === Randomly Select and Store === #\n",
    "last_name = choice( last )\n",
    "\n",
    "\n",
    "# === Debugging: Print the Value === #\n",
    "print( last_name )"
   ]
  },
  {
   "cell_type": "markdown",
   "metadata": {},
   "source": [
    "## Step 7: Print the Names in Order"
   ]
  },
  {
   "cell_type": "code",
   "execution_count": 7,
   "metadata": {},
   "outputs": [
    {
     "name": "stdout",
     "output_type": "stream",
     "text": [
      "Sidekick Name: Crab Meat Weiners\n"
     ]
    }
   ],
   "source": [
    "# === Print Formatted === #\n",
    "print( 'Sidekick Name: {} {}'.format( first_name , last_name ) )"
   ]
  },
  {
   "cell_type": "code",
   "execution_count": null,
   "metadata": {},
   "outputs": [],
   "source": []
  }
 ],
 "metadata": {
  "kernelspec": {
   "display_name": "Python 3",
   "language": "python",
   "name": "python3"
  },
  "language_info": {
   "codemirror_mode": {
    "name": "ipython",
    "version": 3
   },
   "file_extension": ".py",
   "mimetype": "text/x-python",
   "name": "python",
   "nbconvert_exporter": "python",
   "pygments_lexer": "ipython3",
   "version": "3.7.4"
  }
 },
 "nbformat": 4,
 "nbformat_minor": 2
}
