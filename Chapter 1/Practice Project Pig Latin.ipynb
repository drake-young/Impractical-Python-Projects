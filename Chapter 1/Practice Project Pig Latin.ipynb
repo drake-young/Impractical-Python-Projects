{
 "cells": [
  {
   "cell_type": "markdown",
   "metadata": {},
   "source": [
    "# Pig Latin\n",
    "\n",
    "To form Pig Latin, you take an english word that ends in a consonant, move that consonant to the end, then add \"ay\" to the end of the word. If the word begins with a vowel, simply add \"way\" to the end of the word. One of the most famous Pig Latin phrases of all time is \"ixnay on the ottenray,\" uttered by Mel Brooks's comedic masterpiece, *Young Frankenstein*\n",
    "\n",
    "Write a program that takes a word as input, uses indexing and slicing to return its pig latin equivalent\n",
    "\n",
    "**Personal Modifications:** I do not perform any error checking as to whether there is any punctuation present. I will, however, be allowing for the program to take an entire phrase as input. I am also considering that there are exceptions to the rules specified above -- in \"ixnay on the ottenray\", \"on\" and \"the\" are left unchanged. Research reveals the following rules for Pig Latin:\n",
    "* Words starting with single-consonants move the consonant to the end and add \"ay\" (pig --> igpay).\n",
    "* Words starting with consonant-clusters move the whole consonant cluster to the end and add \"ay\" (program --> ogrampray)\n",
    "* Words starting with vowels add either \"way\" or \"yay\" to the end (apple --> appleyay/appleway). This includes shorter words: it --> ityay/itway, I --> iyay/iway.\n",
    "* If the word starts with 'Y', treat it as a consonant (year --> earyay)\n",
    "* If the word starts with a consonant cluster that ends with 'y', treat the y as a vowel (rhythm --> ythmrhay) \n",
    "* Compound words have each component Pig-Latin-ified separately (bedroom --> edbay oomray). *Note that since I am not storing a dictionary file to check for valid compound words and their components, this rule will be ignored in the program. As such, we will make \"bedroom\" --> \"edroombay\" instead*"
   ]
  },
  {
   "cell_type": "markdown",
   "metadata": {},
   "source": [
    "## Setup: Utility Function"
   ]
  },
  {
   "cell_type": "code",
   "execution_count": 1,
   "metadata": {},
   "outputs": [],
   "source": [
    "# === Function to Convet Single Word to Pig Latin === #\n",
    "def wordToPigLatin( word ):\n",
    "    vowels = ( 'a', 'e', 'i', 'o', 'u' )\n",
    "    \n",
    "    # === If word Starts with Vowel just add \"way\" to the end === #\n",
    "    if word[0] in vowels:\n",
    "        return word + 'way'\n",
    "    \n",
    "    # === Word Starts with Consonant or Consonant Cluster === #\n",
    "    else:\n",
    "        # === Determine end of Consonant cluster (can be length 1)\n",
    "        i = 0\n",
    "        while word[i] not in vowels and word[i] != 'y' and i < len( word ):\n",
    "            i += 1\n",
    "            \n",
    "        # === Apply Consonant Rules === #    \n",
    "        return word[i:] + word[:i] + 'ay'"
   ]
  },
  {
   "cell_type": "markdown",
   "metadata": {},
   "source": [
    "## Implementation"
   ]
  },
  {
   "cell_type": "code",
   "execution_count": 3,
   "metadata": {},
   "outputs": [
    {
     "name": "stdout",
     "output_type": "stream",
     "text": [
      "Phrase to Convert to Pig Latin: python pig latin practice project implementation\n",
      "[DEBUG] Lowercase Input: python pig latin practice project implementation\n",
      "[DEBUG] Words Array: ['python', 'pig', 'latin', 'practice', 'project', 'implementation']\n",
      "[DEBUG] Pig Latin Array: ['ythonpay', 'igpay', 'atinlay', 'acticepray', 'ojectpray', 'implementationway']\n",
      "\n",
      "Pig Latin Version of Input: ythonpay igpay atinlay acticepray ojectpray implementationway\n"
     ]
    }
   ],
   "source": [
    "# === Step 1: Extract Input as Lowercase === #\n",
    "phrase = input( 'Phrase to Convert to Pig Latin: ' ).lower( )\n",
    "\n",
    "\n",
    "# === Step 2: Parse into Numpy Array === #\n",
    "words = phrase.split( ' ' )\n",
    "\n",
    "\n",
    "# === Step 3: Apply Pig Latin Rules to Each Word === #\n",
    "pig_latin_array = [ wordToPigLatin( w ) for w in words ]\n",
    "\n",
    "\n",
    "# === Step 4: Combine Words into Single String \n",
    "result = ' '.join( pig_latin_array )\n",
    "\n",
    "\n",
    "# === Debugging: Print Variables from Each Step === #\n",
    "print( '[DEBUG] Lowercase Input: {}'.format( phrase ) )\n",
    "print( '[DEBUG] Words Array: {}'.format( words ) )\n",
    "print( '[DEBUG] Pig Latin Array: {}'.format( pig_latin_array ) )\n",
    "\n",
    "\n",
    "# === Final Output: Pig Latin Phrase === #\n",
    "print( '\\nPig Latin Version of Input: {}'.format( result ) )"
   ]
  },
  {
   "cell_type": "code",
   "execution_count": null,
   "metadata": {},
   "outputs": [],
   "source": []
  }
 ],
 "metadata": {
  "kernelspec": {
   "display_name": "Python 3",
   "language": "python",
   "name": "python3"
  },
  "language_info": {
   "codemirror_mode": {
    "name": "ipython",
    "version": 3
   },
   "file_extension": ".py",
   "mimetype": "text/x-python",
   "name": "python",
   "nbconvert_exporter": "python",
   "pygments_lexer": "ipython3",
   "version": "3.7.4"
  }
 },
 "nbformat": 4,
 "nbformat_minor": 2
}
