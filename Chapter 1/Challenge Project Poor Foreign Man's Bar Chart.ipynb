{
 "cells": [
  {
   "cell_type": "markdown",
   "metadata": {},
   "source": [
    "# Poor Foreign Man's Bar Chart\n",
    "\n",
    "Use an online translator to change your text into another Latin-based writing system (such as Spanish or French). Rerun your code from Poor Man's Bar Chart and compare your results. \n",
    "\n",
    "Twise as many *L*s and three times as many *U*s appear in the Spanish sentence. To make the mar charts for different inputs directly comparable, change the code so every letter of the alphabet has a key and is displayed even if there are no values.\n",
    "\n",
    "**Note:** special characters (such as those with accent marks and tildes) will be treated as the non-special version. For example, \"á\" will be counted as an \"a\"."
   ]
  },
  {
   "cell_type": "markdown",
   "metadata": {},
   "source": [
    "## Setup: Imports\n",
    "\n",
    "* **`unidecode`:** used to decode special unicode characters into their base versions\n",
    "* **`matplotlib.pyplot`:** used for plotting the \"Rich Man's Bar Chart\""
   ]
  },
  {
   "cell_type": "code",
   "execution_count": 1,
   "metadata": {},
   "outputs": [],
   "source": [
    "import unidecode\n",
    "import matplotlib.pyplot as plt"
   ]
  },
  {
   "cell_type": "markdown",
   "metadata": {},
   "source": [
    "## Updated Poor Man's Bar Chart\n",
    "\n",
    "In order to modify the poor man's bar chart to contain keys for each letter, we simply add the keys manually before counting the letters. This is done with a for loop. We also use the `unidecode` library to handle accented letters."
   ]
  },
  {
   "cell_type": "code",
   "execution_count": 5,
   "metadata": {},
   "outputs": [
    {
     "name": "stdout",
     "output_type": "stream",
     "text": [
      "Text to Form the Chart: Como el castillo en su esquina en un juego medieval, preveo terribles problemas y me quedo aquí igual\n",
      "[DEBUG] Letter Counts: {'a': 6, 'b': 2, 'c': 2, 'd': 2, 'e': 14, 'f': 0, 'g': 2, 'h': 0, 'i': 6, 'j': 1, 'k': 0, 'l': 7, 'm': 4, 'n': 4, 'o': 7, 'p': 2, 'q': 3, 'r': 4, 's': 5, 't': 2, 'u': 7, 'v': 2, 'w': 0, 'x': 0, 'y': 1, 'z': 0}\n",
      "[RESULT] Poor Man's Bar Chart of \"como el castillo en su esquina en un juego medieval, preveo terribles problemas y me quedo aquí igual\"\n",
      "'a':  ['a', 'a', 'a', 'a', 'a', 'a']\n",
      "'b':  ['b', 'b']\n",
      "'c':  ['c', 'c']\n",
      "'d':  ['d', 'd']\n",
      "'e':  ['e', 'e', 'e', 'e', 'e', 'e', 'e', 'e', 'e', 'e', 'e', 'e', 'e', 'e']\n",
      "'f':  []\n",
      "'g':  ['g', 'g']\n",
      "'h':  []\n",
      "'i':  ['i', 'i', 'i', 'i', 'i', 'i']\n",
      "'j':  ['j']\n",
      "'k':  []\n",
      "'l':  ['l', 'l', 'l', 'l', 'l', 'l', 'l']\n",
      "'m':  ['m', 'm', 'm', 'm']\n",
      "'n':  ['n', 'n', 'n', 'n']\n",
      "'o':  ['o', 'o', 'o', 'o', 'o', 'o', 'o']\n",
      "'p':  ['p', 'p']\n",
      "'q':  ['q', 'q', 'q']\n",
      "'r':  ['r', 'r', 'r', 'r']\n",
      "'s':  ['s', 's', 's', 's', 's']\n",
      "'t':  ['t', 't']\n",
      "'u':  ['u', 'u', 'u', 'u', 'u', 'u', 'u']\n",
      "'v':  ['v', 'v']\n",
      "'w':  []\n",
      "'x':  []\n",
      "'y':  ['y']\n",
      "'z':  []\n"
     ]
    }
   ],
   "source": [
    "# === Get the Input, Normalize to Lowercase === #\n",
    "text         = input( 'Text to Form the Chart: ' ).lower( )\n",
    "text_decoded = unidecode.unidecode( text )\n",
    "\n",
    "\n",
    "# === Prepare the Dictionary with Fixed Keys === #\n",
    "counts = dict( )\n",
    "keys   = 'abcdefghijklmnopqrstuvwxyz'\n",
    "for key in keys:\n",
    "    counts[key] = 0\n",
    "\n",
    "# === Get Counts of Each Letter === #\n",
    "for letter in text_decoded:\n",
    "    if letter.isalpha( ):\n",
    "        counts[letter] += 1\n",
    "    continue  # for letter\n",
    "    \n",
    "\n",
    "# === Debugging Output === #\n",
    "print( '[DEBUG] Letter Counts: {}'.format( counts ) )\n",
    "\n",
    "\n",
    "# === Output the Final Bar Chart === #\n",
    "print( '[RESULT] Poor Foreign Man\\'s Bar Chart of \"{}\"'.format( text ) )\n",
    "for letter in sorted( counts.keys( ) ):\n",
    "    print( '\\'{}\\':  {}'.format( letter , [letter] * counts[letter] ) )\n"
   ]
  },
  {
   "cell_type": "markdown",
   "metadata": {},
   "source": [
    "## Rich Foreign Man's Bar Chart\n",
    "\n",
    "The only change that needed to be made to this portion of the implementation was the chart's title"
   ]
  },
  {
   "cell_type": "code",
   "execution_count": 8,
   "metadata": {},
   "outputs": [
    {
     "data": {
      "image/png": "[encoded data removed]",
      "text/plain": [
       "<Figure size 1152x576 with 1 Axes>"
      ]
     },
     "metadata": {
      "needs_background": "light"
     },
     "output_type": "display_data"
    }
   ],
   "source": [
    "# === Create the X and Y Data Lists === #\n",
    "labels  = sorted( counts.keys( ) )\n",
    "heights = [counts[label] for label in labels]\n",
    "\n",
    "\n",
    "# === Plot the Data and Label === #\n",
    "plt.bar( labels, heights )\n",
    "plt.title( 'Rich Foreign Man\\'s Bar Chart' )\n",
    "plt.xlabel( 'Letter' )\n",
    "plt.ylabel( 'Count' )\n",
    "\n",
    "\n",
    "# === Show the Plot === #\n",
    "plt.rcParams['figure.figsize'] = ( 16 , 8 )  # Change figure size to be bigger\n",
    "plt.show( )"
   ]
  },
  {
   "cell_type": "code",
   "execution_count": null,
   "metadata": {},
   "outputs": [],
   "source": []
  }
 ],
 "metadata": {
  "kernelspec": {
   "display_name": "Python 3",
   "language": "python",
   "name": "python3"
  },
  "language_info": {
   "codemirror_mode": {
    "name": "ipython",
    "version": 3
   },
   "file_extension": ".py",
   "mimetype": "text/x-python",
   "name": "python",
   "nbconvert_exporter": "python",
   "pygments_lexer": "ipython3",
   "version": "3.7.4"
  }
 },
 "nbformat": 4,
 "nbformat_minor": 2
}
