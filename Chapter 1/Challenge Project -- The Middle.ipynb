{
 "cells": [
  {
   "cell_type": "markdown",
   "metadata": {},
   "source": [
    "# Challenge Project: The Middle\n",
    "\n",
    "Rewrite the funny name generator code to include middle names. First, create a new `middle_name` tuple, then split apart existing first name-middle name pairs (such as \"Joe 'Potting Soil'\" or \"Sid 'The Squirts'\") and add them to the tuple. You should also move some obvious nicknames, like \"Oil Can\" to your `middle_name` tupole. Finally, add some new middle names (such as \"The Big News\" or \"Tinkie Winkie\"). Use Python's `random` module, so that a middle name is only chosen one half or one third the time.\n",
    "\n",
    "\n",
    "**Notes:** \n",
    "\n",
    "1. I could manually define the `middle_name` tuple and manually move the \"nicknames\" from the first name tuple to the middle name one, but it would be more interesting to manually define a few new middle names, and utilize python scripting to split/move the various existing first names appropriately\n",
    "2. I have chosen to make the middle name be generated half of the time so that it occurs more often during debugging "
   ]
  },
  {
   "cell_type": "markdown",
   "metadata": {},
   "source": [
    "## Necessary Imports\n",
    "\n",
    "As requested by the prompt, the random module is used for `random.choice()` and `random.random()` for the random operations."
   ]
  },
  {
   "cell_type": "code",
   "execution_count": 1,
   "metadata": {},
   "outputs": [],
   "source": [
    "import random"
   ]
  },
  {
   "cell_type": "markdown",
   "metadata": {},
   "source": [
    "## Create the Tuple of First Names\n",
    "\n",
    "This is the same tuple from the original program"
   ]
  },
  {
   "cell_type": "code",
   "execution_count": 2,
   "metadata": {},
   "outputs": [
    {
     "name": "stdout",
     "output_type": "stream",
     "text": [
      "('Baby Oil', 'Bad News', 'Big Burps', \"Bill 'Beenie-Weenie'\", \"Bob 'Stinkbug'\", 'Bowel Noises', 'Boxelder', \"Bud 'Lite'\", 'Chewy', 'Cinnabuns', 'Cleet', 'Cornbread', 'Crab Meat', 'Crapps', 'Dark Skies', 'Dennis Clawhammer', 'Dicman', 'Elphonso', 'Fancypants', 'Figgs', 'Foncy', 'Gootsy', 'Greasy Jim', 'Huckleberry', 'Huggy', 'Ignatious', 'Jimbo', \"Joe 'Pottin Soil'\", 'Johnny', 'Lemongrass', 'Lil Debil', 'Longbranch', \"'Lunch Money'\", 'Megatroid', \"'Mr Peabody'\", 'Oil-Can', 'Oinks', 'Old Scratch', 'Ovaltine', 'Pennywhistle', 'Pitchfork Ben', 'Potato Bug', 'Pushmeet', 'Rock Candy', 'Schlomo', 'Scratchensniff', 'Scut', \"Sid 'The Squirts'\", 'Skidmark', 'Slaps', 'Snakes', 'Snoobs', 'Snorki', 'Soupcan Sam', 'Spitzitout', 'Squids', 'Stinky', \"Winston 'Jazz Hands'\", 'Worms')\n"
     ]
    }
   ],
   "source": [
    "# === Create the List === #\n",
    "first = ( 'Baby Oil', 'Bad News', 'Big Burps', 'Bill \\'Beenie-Weenie\\'' , \n",
    "          'Bob \\'Stinkbug\\'', 'Bowel Noises', 'Boxelder', 'Bud \\'Lite\\'', \n",
    "          'Chewy', 'Cinnabuns', 'Cleet', 'Cornbread', 'Crab Meat',\n",
    "          'Crapps', 'Dark Skies', 'Dennis Clawhammer', 'Dicman', 'Elphonso',\n",
    "          'Fancypants', 'Figgs', 'Foncy', 'Gootsy', 'Greasy Jim', 'Huckleberry',\n",
    "          'Huggy', 'Ignatious', 'Jimbo', 'Joe \\'Pottin Soil\\'', 'Johnny',\n",
    "          'Lemongrass', 'Lil Debil', 'Longbranch', '\\'Lunch Money\\'',\n",
    "          'Megatroid', '\\'Mr Peabody\\'', 'Oil-Can', 'Oinks', 'Old Scratch',\n",
    "          'Ovaltine', 'Pennywhistle', 'Pitchfork Ben', 'Potato Bug',\n",
    "          'Pushmeet', 'Rock Candy', 'Schlomo', 'Scratchensniff', 'Scut',\n",
    "          'Sid \\'The Squirts\\'', 'Skidmark', 'Slaps', 'Snakes', 'Snoobs',\n",
    "          'Snorki', 'Soupcan Sam', 'Spitzitout', 'Squids', 'Stinky',\n",
    "          'Winston \\'Jazz Hands\\'', 'Worms')\n",
    "\n",
    "\n",
    "# === Debugging: Print the List === #\n",
    "print( first )"
   ]
  },
  {
   "cell_type": "markdown",
   "metadata": {},
   "source": [
    "## Create the Tuple of Last Names\n",
    "\n",
    "This tuple is also the same as the original program."
   ]
  },
  {
   "cell_type": "code",
   "execution_count": 3,
   "metadata": {},
   "outputs": [
    {
     "name": "stdout",
     "output_type": "stream",
     "text": [
      "('Appleyard', 'Bigmeat', 'Bloominshine', 'Boogerbottom', 'Breedslovetrout', 'Butterbaugh', 'Clovenhoof', 'Clutterbuck', 'Cocktoasten', 'Endicott', 'Fewhairs', 'Gooberdapple', 'Goodensmith', 'Goodpasture', 'Guster', 'Henderson', 'Hooperbag', 'Hoosenater', 'Hootkins', 'Jefferson', 'Jenkins', 'Jingley-Schmidt', 'Johnson', 'Kingfish', 'Listenbee', \"M'Bembo\", 'McFadden', 'Moonshine', 'Nettles', 'Noseworthy', 'Olivertti', 'Outerbridge', 'Overpeck', 'Overturf', 'Oxenhandler', 'Pealike', 'Pennywhistle', 'Peterson', 'Pieplow', 'Pinkerton', 'Porkins', 'Putney', 'Quakenbush', 'Rainwater', 'Rosenthal', 'Rubbins', 'Sackrider', 'Snuggleshine', 'Splern', 'Stevens', 'Stroganoff', 'Sugar-Gold', 'Swackhamer', 'Tippins', 'Turnipseed', 'Vinaigrette', 'Walkingstick', 'Wallbanger', 'Weewax', 'Weiners', 'Whipkey', 'Wigglesworth', 'Wimplesnatch', 'Winterkorn', 'Woolysocks')\n"
     ]
    }
   ],
   "source": [
    "# === Create the List === #\n",
    "last = ( 'Appleyard', 'Bigmeat', 'Bloominshine', 'Boogerbottom',\n",
    "         'Breedslovetrout', 'Butterbaugh', 'Clovenhoof', 'Clutterbuck',\n",
    "          'Cocktoasten''', 'Endicott', 'Fewhairs', 'Gooberdapple', 'Goodensmith',\n",
    "         'Goodpasture', 'Guster', 'Henderson', 'Hooperbag', 'Hoosenater',\n",
    "         'Hootkins', 'Jefferson', 'Jenkins', 'Jingley-Schmidt', 'Johnson',\n",
    "         'Kingfish', 'Listenbee', 'M\\'Bembo', 'McFadden', 'Moonshine', 'Nettles',\n",
    "         'Noseworthy', 'Olivertti', 'Outerbridge', 'Overpeck', 'Overturf',\n",
    "         'Oxenhandler', 'Pealike', 'Pennywhistle', 'Peterson', 'Pieplow',\n",
    "         'Pinkerton', 'Porkins', 'Putney', 'Quakenbush', 'Rainwater',\n",
    "         'Rosenthal', 'Rubbins', 'Sackrider', 'Snuggleshine', 'Splern',\n",
    "         'Stevens', 'Stroganoff', 'Sugar-Gold', 'Swackhamer', 'Tippins',\n",
    "         'Turnipseed', 'Vinaigrette', 'Walkingstick', 'Wallbanger', 'Weewax',\n",
    "         'Weiners', 'Whipkey', 'Wigglesworth', 'Wimplesnatch', 'Winterkorn',\n",
    "         'Woolysocks' )\n",
    "\n",
    "\n",
    "# === Debugging: Print the List === #\n",
    "print( last )"
   ]
  },
  {
   "cell_type": "markdown",
   "metadata": {},
   "source": [
    "## Create the Middle Name Tuple\n",
    "\n",
    "1. Add a few uniquely made middle names to the tuple\n",
    "2. Split any First Name-Middle Name pairs from first to middle name tuples \"Sid 'The Squirts'\" would move 'The Squirts' out of the first name and place it in middle names (and remove any trailing spaces\n",
    "3. Move \"obvious nicknames\" from first to middle. I defined \"obvious nicknames\" as any name with a space"
   ]
  },
  {
   "cell_type": "code",
   "execution_count": 4,
   "metadata": {},
   "outputs": [
    {
     "name": "stdout",
     "output_type": "stream",
     "text": [
      "Updated First Names:\n",
      "('Bill', 'Bob', 'Boxelder', 'Bud', 'Chewy', 'Cinnabuns', 'Cleet', 'Cornbread', 'Crapps', 'Dicman', 'Elphonso', 'Fancypants', 'Figgs', 'Foncy', 'Gootsy', 'Huckleberry', 'Huggy', 'Ignatious', 'Jimbo', 'Joe', 'Johnny', 'Lemongrass', 'Longbranch', 'Megatroid', 'Oil-Can', 'Oinks', 'Ovaltine', 'Pennywhistle', 'Pushmeet', 'Schlomo', 'Scratchensniff', 'Scut', 'Sid', 'Skidmark', 'Slaps', 'Snakes', 'Snoobs', 'Snorki', 'Spitzitout', 'Squids', 'Stinky', 'Winston', 'Worms')\n",
      "\n",
      "Updated Middle Names:\n",
      "('The Big News', 'Tinkie Winkie', 'Hot Stuff', 'Big Shot', 'Powderpuff', 'Super-Size', 'The Undertaker', 'The Gengleman', \"'Gills'\", \"'Beenie-Weenie'\", \"'Stinkbug'\", \"'Lite'\", \"'Pottin Soil'\", \"'Lunch Money'\", \"'Mr Peabody'\", \"'The Squirts'\", \"'Jazz Hands'\", 'Baby Oil', 'Bad News', 'Big Burps', 'Bowel Noises', 'Crab Meat', 'Dark Skies', 'Dennis Clawhammer', 'Greasy Jim', 'Lil Debil', 'Old Scratch', 'Pitchfork Ben', 'Potato Bug', 'Rock Candy', 'Soupcan Sam')\n"
     ]
    }
   ],
   "source": [
    "# === Create the List === #\n",
    "# Note: There's fewer than the others because the quantity of \"creative\" names is not\n",
    "#       needed to show competence in the material\n",
    "middle = ( 'The Big News', 'Tinkie Winkie', 'Hot Stuff', 'Big Shot', 'Powderpuff',\n",
    "           'Super-Size', 'The Undertaker', 'The Gengleman', '\\'Gills\\'' )\n",
    "\n",
    "\n",
    "# === Move First Name-Middle Name Pairs from First to Middle === #\n",
    "first_list  = list( first )\n",
    "middle     += tuple( name[name.index( '\"' ):] for name in first_list if '\"' in name )\n",
    "first_list  = [ name[:name.index( '\"' )] if '\"' in name else name for name in first_list ]\n",
    "middle     += tuple( name[name.index( \"'\" ):] for name in first_list if \"'\" in name )\n",
    "first_list  = [ name[:name.index(\"'\")] if \"'\" in name else name for name in first_list ]\n",
    "\n",
    "\n",
    "# === Clean Up Excess Spaces and Empty Entries === #\n",
    "first_list = [ name for name in first_list if len( name ) > 0 ]\n",
    "first_list = [ name[:-1] if name[-1] is ' ' else name for name in first_list ]\n",
    "\n",
    "\n",
    "# === Move \"Obvious Nicknames\" (has a space) to the Middle Tuple === #\n",
    "middle     += tuple( name for name in first_list if ' ' in name )\n",
    "first_list  = [ name for name in first_list if ' ' not in name ]\n",
    "\n",
    "\n",
    "# === Convert First Back to Tuple Now that Data Manipulation is Done === #\n",
    "first = tuple( first_list )\n",
    "\n",
    "\n",
    "# === Debugging: Print the List === #\n",
    "print( 'Updated First Names:\\n{}\\n'.format( first ) )\n",
    "print( 'Updated Middle Names:\\n{}'.format( middle ) )"
   ]
  },
  {
   "cell_type": "code",
   "execution_count": 7,
   "metadata": {},
   "outputs": [
    {
     "name": "stdout",
     "output_type": "stream",
     "text": [
      "Random Sidekick Name: Snorki 'Stinkbug' Oxenhandler\n"
     ]
    }
   ],
   "source": [
    "# === Preliminary === #\n",
    "middle_probability = 0.5\n",
    "sidekick_name      = ''\n",
    "\n",
    "\n",
    "# === Randomly Select First and Last Names === #\n",
    "first_name = random.choice( first )\n",
    "last_name  = random.choice( last )\n",
    "\n",
    "\n",
    "# === Sometimes Include Middle Name, Otherwise Just First and Last === #\n",
    "if random.random( ) < middle_probability:\n",
    "    middle_name = random.choice( middle )\n",
    "    sidekick_name = '{} {} {}'.format( first_name , middle_name , last_name )\n",
    "else:\n",
    "    sidekick_name = '{} {}'.format( first_name , last_name )\n",
    "\n",
    "    \n",
    "# === Print the Results === #\n",
    "print( 'Random Sidekick Name: {}'.format( sidekick_name ) )"
   ]
  },
  {
   "cell_type": "code",
   "execution_count": null,
   "metadata": {},
   "outputs": [],
   "source": []
  }
 ],
 "metadata": {
  "kernelspec": {
   "display_name": "Python 3",
   "language": "python",
   "name": "python3"
  },
  "language_info": {
   "codemirror_mode": {
    "name": "ipython",
    "version": 3
   },
   "file_extension": ".py",
   "mimetype": "text/x-python",
   "name": "python",
   "nbconvert_exporter": "python",
   "pygments_lexer": "ipython3",
   "version": "3.7.4"
  }
 },
 "nbformat": 4,
 "nbformat_minor": 2
}
