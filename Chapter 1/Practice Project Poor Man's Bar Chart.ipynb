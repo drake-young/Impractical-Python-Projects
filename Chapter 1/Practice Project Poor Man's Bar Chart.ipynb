{
 "cells": [
  {
   "cell_type": "markdown",
   "metadata": {},
   "source": [
    "# Practice Project: Poor Man's Bar Chart\n",
    "\n",
    "The six most commonly used letters in the English language can be remembered with the mnemonic \"etaoin\" (pronounced *eh-tay-oh-in*). Write a python script that takes a sentence (string) as input and returns a simple bar chart-type display. Hint: I used a dictionary data structure and two modules that I haven't covered yet, pprint and collections/defaultdict"
   ]
  },
  {
   "cell_type": "code",
   "execution_count": 30,
   "metadata": {},
   "outputs": [
    {
     "name": "stdout",
     "output_type": "stream",
     "text": [
      "Text to Form the Chart: Like the castle in its corner a medieval game, I foresee terrible trouble and I stay here just the same\n",
      "[DEBUG] Letter Counts: {'l': 5, 'i': 7, 'k': 1, 'e': 17, 't': 8, 'h': 3, 'c': 2, 'a': 7, 's': 6, 'n': 3, 'o': 3, 'r': 7, 'm': 3, 'd': 2, 'v': 1, 'g': 1, 'f': 1, 'b': 2, 'u': 2, 'y': 1, 'j': 1}\n",
      "[RESULT] Poor Man's Bar Chart of \"like the castle in its corner a medieval game, i foresee terrible trouble and i stay here just the same\"\n",
      "'a':  ['a', 'a', 'a', 'a', 'a', 'a', 'a']\n",
      "'b':  ['b', 'b']\n",
      "'c':  ['c', 'c']\n",
      "'d':  ['d', 'd']\n",
      "'e':  ['e', 'e', 'e', 'e', 'e', 'e', 'e', 'e', 'e', 'e', 'e', 'e', 'e', 'e', 'e', 'e', 'e']\n",
      "'f':  ['f']\n",
      "'g':  ['g']\n",
      "'h':  ['h', 'h', 'h']\n",
      "'i':  ['i', 'i', 'i', 'i', 'i', 'i', 'i']\n",
      "'j':  ['j']\n",
      "'k':  ['k']\n",
      "'l':  ['l', 'l', 'l', 'l', 'l']\n",
      "'m':  ['m', 'm', 'm']\n",
      "'n':  ['n', 'n', 'n']\n",
      "'o':  ['o', 'o', 'o']\n",
      "'r':  ['r', 'r', 'r', 'r', 'r', 'r', 'r']\n",
      "'s':  ['s', 's', 's', 's', 's', 's']\n",
      "'t':  ['t', 't', 't', 't', 't', 't', 't', 't']\n",
      "'u':  ['u', 'u']\n",
      "'v':  ['v']\n",
      "'y':  ['y']\n"
     ]
    }
   ],
   "source": [
    "# === Get the Input, Normalize to Lowercase === #\n",
    "text = input( 'Text to Form the Chart: ' ).lower( )\n",
    "\n",
    "\n",
    "# === Get Counts of Each Letter === #\n",
    "counts = dict( )\n",
    "for letter in text:\n",
    "    if letter.isalpha( ):\n",
    "        counts[letter] = counts.get( letter , 0 ) + 1\n",
    "    continue  # for letter\n",
    "    \n",
    "\n",
    "# === Debugging Output === #\n",
    "print( '[DEBUG] Letter Counts: {}'.format( counts ) )\n",
    "\n",
    "\n",
    "# === Output the Final Bar Chart === #\n",
    "print( '[RESULT] Poor Man\\'s Bar Chart of \"{}\"'.format( text ) )\n",
    "for letter in sorted( counts.keys( ) ):\n",
    "    print( '\\'{}\\':  {}'.format( letter , [letter] * counts[letter] ) )"
   ]
  },
  {
   "cell_type": "markdown",
   "metadata": {},
   "source": [
    "## Extension: Matplotlib\n",
    "\n",
    "Why use the poor man's chart when we have access to the tools to construct more aesthetically pleasing bar charts."
   ]
  },
  {
   "cell_type": "markdown",
   "metadata": {},
   "source": [
    "### Setup: Import Matplotlib"
   ]
  },
  {
   "cell_type": "code",
   "execution_count": 7,
   "metadata": {},
   "outputs": [],
   "source": [
    "# === Necessary Imports === #\n",
    "import matplotlib.pyplot as plt"
   ]
  },
  {
   "cell_type": "markdown",
   "metadata": {},
   "source": [
    "### Implementation Using the Same Counts"
   ]
  },
  {
   "cell_type": "code",
   "execution_count": 33,
   "metadata": {},
   "outputs": [
    {
     "data": {
      "image/png": "[encoded data removed]",
      "text/plain": [
       "<Figure size 1152x432 with 1 Axes>"
      ]
     },
     "metadata": {
      "needs_background": "light"
     },
     "output_type": "display_data"
    }
   ],
   "source": [
    "# === Create the X and Y Data Lists === #\n",
    "labels  = sorted( counts.keys( ) )\n",
    "heights = [counts[label] for label in labels]\n",
    "\n",
    "\n",
    "# === Plot the Data and Label === #\n",
    "plt.bar( labels, heights )\n",
    "plt.title( 'Rich Man\\'s Bar Chart' )\n",
    "plt.xlabel( 'Letter' )\n",
    "plt.ylabel( 'Count' )\n",
    "\n",
    "\n",
    "# === Show the Plot === #\n",
    "plt.rcParams['figure.figsize'] = ( 16 , 8 )  # Change figure size to be bigger\n",
    "plt.show( )"
   ]
  },
  {
   "cell_type": "code",
   "execution_count": null,
   "metadata": {},
   "outputs": [],
   "source": []
  }
 ],
 "metadata": {
  "kernelspec": {
   "display_name": "Python 3",
   "language": "python",
   "name": "python3"
  },
  "language_info": {
   "codemirror_mode": {
    "name": "ipython",
    "version": 3
   },
   "file_extension": ".py",
   "mimetype": "text/x-python",
   "name": "python",
   "nbconvert_exporter": "python",
   "pygments_lexer": "ipython3",
   "version": "3.7.4"
  }
 },
 "nbformat": 4,
 "nbformat_minor": 2
}
